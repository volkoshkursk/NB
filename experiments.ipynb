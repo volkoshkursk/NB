{
 "cells": [
  {
   "cell_type": "code",
   "execution_count": null,
   "metadata": {},
   "outputs": [],
   "source": [
    "with open('inp.txt') as f:\n",
    "    text = f.read()\n",
    "with open('vocabulary.txt') as f:\n",
    "    vocabulary =  dict.fromkeys(set(f.read().split()))"
   ]
  },
  {
   "cell_type": "code",
   "execution_count": null,
   "metadata": {},
   "outputs": [],
   "source": [
    "from __future__ import generators\n",
    "# Sieve of Eratosthenes\n",
    "# David Eppstein, UC Irvine, 28 Feb 2002\n",
    "\n",
    "\n",
    "def eratosthenes():\n",
    "    '''Yields the sequence of prime numbers via the Sieve of Eratosthenes.\n",
    "    Sieve of Eratosthenes\n",
    "    David Eppstein, UC Irvine, 28 Feb 2002\n",
    "    '''\n",
    "    D = {}  # map composite integers to primes witnessing their compositeness\n",
    "    q = 2   # first integer to test for primality\n",
    "    while 1:\n",
    "        if q not in D:\n",
    "            yield q        # not marked composite, must be prime\n",
    "            D[q*q] = [q]   # first multiple of q not already marked\n",
    "        else:\n",
    "            for p in D[q]: # move each witness to its next multiple\n",
    "                D.setdefault(p+q,[]).append(p)\n",
    "            del D[q]       # no longer need D[q], free memory\n",
    "        q += 1\n",
    "\n"
   ]
  },
  {
   "cell_type": "code",
   "execution_count": null,
   "metadata": {},
   "outputs": [],
   "source": [
    "from tqdm import tqdm\n",
    "\n",
    "gen = eratosthenes()\n",
    "list_prime = []\n",
    "for i in tqdm(vocabulary.keys()):\n",
    "    vocabulary[i] = next(gen)"
   ]
  },
  {
   "cell_type": "code",
   "execution_count": null,
   "metadata": {},
   "outputs": [],
   "source": []
  },
  {
   "cell_type": "code",
   "execution_count": null,
   "metadata": {},
   "outputs": [],
   "source": [
    "vocabulary"
   ]
  },
  {
   "cell_type": "code",
   "execution_count": null,
   "metadata": {},
   "outputs": [],
   "source": [
    "import numpy as np\n",
    "\n",
    "def f(word, vocabulary):\n",
    "    return vocabulary[word]\n",
    "\n",
    "vf = np.vectorize(f, excluded=['vocabulary'], otypes=[np.ulonglong])\n",
    "\n",
    "def convert_to(text, vocabulary, vf=vf):\n",
    "    return np.prod(vf(set(np.array(text.split(' '))), vocabulary))"
   ]
  },
  {
   "cell_type": "code",
   "execution_count": null,
   "metadata": {},
   "outputs": [],
   "source": [
    "#import pandas\n",
    "#res = df.text.progress_apply(convert_to, vocabulary=vocabulary)"
   ]
  },
  {
   "attachments": {},
   "cell_type": "markdown",
   "metadata": {},
   "source": [
    "This doesn't work, because _np.ulonglong_ cannot contain the whole multiplication result"
   ]
  },
  {
   "cell_type": "code",
   "execution_count": null,
   "metadata": {},
   "outputs": [],
   "source": [
    "\n",
    "temp = 1\n",
    "for w in text.split(' '):\n",
    "#     print(w)\n",
    "#     print(vocabulary[w])\n",
    "#     print('='*10)\n",
    "    temp *= vocabulary[w]"
   ]
  },
  {
   "cell_type": "code",
   "execution_count": null,
   "metadata": {},
   "outputs": [],
   "source": [
    "vocabulary['корова']"
   ]
  },
  {
   "cell_type": "code",
   "execution_count": null,
   "metadata": {},
   "outputs": [],
   "source": [
    "len(str(temp)) / 19"
   ]
  },
  {
   "attachments": {},
   "cell_type": "markdown",
   "metadata": {},
   "source": [
    "The ideas:\n",
    "- Split the number on groups, find the remainder of the divide of first group, add the remainder on the front of next group and do this iteratively until the last remainder will be found\n",
    "- Rewrite the number in polynomial form (may be make polynom not for every exponent)"
   ]
  }
 ],
 "metadata": {
  "kernelspec": {
   "display_name": "Python 3",
   "language": "python",
   "name": "python3"
  },
  "language_info": {
   "name": "python",
   "version": "3.11.2 (main, Mar  7 2023, 15:19:09) [Clang 11.0.0 (clang-1100.0.33.17)]"
  },
  "orig_nbformat": 4,
  "vscode": {
   "interpreter": {
    "hash": "aee8b7b246df8f9039afb4144a1f6fd8d2ca17a180786b69acc140d282b71a49"
   }
  }
 },
 "nbformat": 4,
 "nbformat_minor": 2
}
